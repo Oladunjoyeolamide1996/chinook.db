{
 "cells": [
  {
   "cell_type": "code",
   "execution_count": 1,
   "id": "795bd699-330a-497b-a2bf-4f2822015776",
   "metadata": {},
   "outputs": [
    {
     "name": "stdout",
     "output_type": "stream",
     "text": [
      "Requirement already satisfied: ipython-sql in c:\\programdata\\anaconda3\\envs\\sql_packages\\lib\\site-packages (0.3.9)\n",
      "Requirement already satisfied: prettytable in c:\\programdata\\anaconda3\\envs\\sql_packages\\lib\\site-packages (from ipython-sql) (3.9.0)\n",
      "Requirement already satisfied: ipython>=1.0 in c:\\programdata\\anaconda3\\envs\\sql_packages\\lib\\site-packages (from ipython-sql) (9.5.0)\n",
      "Requirement already satisfied: sqlalchemy>=0.6.7 in c:\\programdata\\anaconda3\\envs\\sql_packages\\lib\\site-packages (from ipython-sql) (1.4.51)\n",
      "Requirement already satisfied: sqlparse in c:\\programdata\\anaconda3\\envs\\sql_packages\\lib\\site-packages (from ipython-sql) (0.5.2)\n",
      "Requirement already satisfied: six in c:\\programdata\\anaconda3\\envs\\sql_packages\\lib\\site-packages (from ipython-sql) (1.17.0)\n",
      "Requirement already satisfied: ipython-genutils>=0.1.0 in c:\\programdata\\anaconda3\\envs\\sql_packages\\lib\\site-packages (from ipython-sql) (0.2.0)\n",
      "Requirement already satisfied: colorama in c:\\programdata\\anaconda3\\envs\\sql_packages\\lib\\site-packages (from ipython>=1.0->ipython-sql) (0.4.6)\n",
      "Requirement already satisfied: decorator in c:\\programdata\\anaconda3\\envs\\sql_packages\\lib\\site-packages (from ipython>=1.0->ipython-sql) (5.2.1)\n",
      "Requirement already satisfied: ipython-pygments-lexers in c:\\programdata\\anaconda3\\envs\\sql_packages\\lib\\site-packages (from ipython>=1.0->ipython-sql) (1.1.1)\n",
      "Requirement already satisfied: jedi>=0.16 in c:\\programdata\\anaconda3\\envs\\sql_packages\\lib\\site-packages (from ipython>=1.0->ipython-sql) (0.19.2)\n",
      "Requirement already satisfied: matplotlib-inline in c:\\programdata\\anaconda3\\envs\\sql_packages\\lib\\site-packages (from ipython>=1.0->ipython-sql) (0.1.7)\n",
      "Requirement already satisfied: prompt_toolkit<3.1.0,>=3.0.41 in c:\\programdata\\anaconda3\\envs\\sql_packages\\lib\\site-packages (from ipython>=1.0->ipython-sql) (3.0.43)\n",
      "Requirement already satisfied: pygments>=2.4.0 in c:\\programdata\\anaconda3\\envs\\sql_packages\\lib\\site-packages (from ipython>=1.0->ipython-sql) (2.19.1)\n",
      "Requirement already satisfied: stack_data in c:\\programdata\\anaconda3\\envs\\sql_packages\\lib\\site-packages (from ipython>=1.0->ipython-sql) (0.6.3)\n",
      "Requirement already satisfied: traitlets>=5.13.0 in c:\\programdata\\anaconda3\\envs\\sql_packages\\lib\\site-packages (from ipython>=1.0->ipython-sql) (5.14.3)\n",
      "Requirement already satisfied: wcwidth in c:\\programdata\\anaconda3\\envs\\sql_packages\\lib\\site-packages (from prompt_toolkit<3.1.0,>=3.0.41->ipython>=1.0->ipython-sql) (0.2.13)\n",
      "Requirement already satisfied: parso<0.9.0,>=0.8.4 in c:\\programdata\\anaconda3\\envs\\sql_packages\\lib\\site-packages (from jedi>=0.16->ipython>=1.0->ipython-sql) (0.8.4)\n",
      "Requirement already satisfied: greenlet!=0.4.17 in c:\\programdata\\anaconda3\\envs\\sql_packages\\lib\\site-packages (from sqlalchemy>=0.6.7->ipython-sql) (3.2.4)\n",
      "Requirement already satisfied: executing>=1.2.0 in c:\\programdata\\anaconda3\\envs\\sql_packages\\lib\\site-packages (from stack_data->ipython>=1.0->ipython-sql) (2.2.1)\n",
      "Requirement already satisfied: asttokens>=2.1.0 in c:\\programdata\\anaconda3\\envs\\sql_packages\\lib\\site-packages (from stack_data->ipython>=1.0->ipython-sql) (3.0.0)\n",
      "Requirement already satisfied: pure_eval in c:\\programdata\\anaconda3\\envs\\sql_packages\\lib\\site-packages (from stack_data->ipython>=1.0->ipython-sql) (0.2.3)\n",
      "Note: you may need to restart the kernel to use updated packages.\n"
     ]
    }
   ],
   "source": [
    "pip install ipython-sql"
   ]
  },
  {
   "cell_type": "code",
   "execution_count": 1,
   "id": "dd7c0d92-98a0-445d-94db-3d107b5213ae",
   "metadata": {},
   "outputs": [],
   "source": [
    "%load_ext sql"
   ]
  },
  {
   "cell_type": "code",
   "execution_count": 5,
   "id": "349c77ba-e0dc-4e51-a9c9-2cdca0e3e44f",
   "metadata": {
    "scrolled": true
   },
   "outputs": [
    {
     "data": {
      "text/plain": [
       "'Connected: @chinook.db'"
      ]
     },
     "execution_count": 5,
     "metadata": {},
     "output_type": "execute_result"
    }
   ],
   "source": [
    "%sql sqlite:///chinook.db"
   ]
  },
  {
   "cell_type": "code",
   "execution_count": 6,
   "id": "60c95769-49d8-49ce-90a1-24c1f88e710b",
   "metadata": {},
   "outputs": [
    {
     "name": "stdout",
     "output_type": "stream",
     "text": [
      "   sqlite:///C:/Users/Admin/OneDrive/Desktop/ALX\n",
      " * sqlite:///chinook.db\n",
      "Done.\n"
     ]
    },
    {
     "data": {
      "text/html": [
       "<table>\n",
       "    <thead>\n",
       "        <tr>\n",
       "            <th>FirstName</th>\n",
       "        </tr>\n",
       "    </thead>\n",
       "    <tbody>\n",
       "        <tr>\n",
       "            <td>Luís</td>\n",
       "        </tr>\n",
       "        <tr>\n",
       "            <td>Leonie</td>\n",
       "        </tr>\n",
       "        <tr>\n",
       "            <td>François</td>\n",
       "        </tr>\n",
       "        <tr>\n",
       "            <td>Bjørn</td>\n",
       "        </tr>\n",
       "        <tr>\n",
       "            <td>František</td>\n",
       "        </tr>\n",
       "        <tr>\n",
       "            <td>Helena</td>\n",
       "        </tr>\n",
       "        <tr>\n",
       "            <td>Astrid</td>\n",
       "        </tr>\n",
       "        <tr>\n",
       "            <td>Daan</td>\n",
       "        </tr>\n",
       "        <tr>\n",
       "            <td>Kara</td>\n",
       "        </tr>\n",
       "        <tr>\n",
       "            <td>Eduardo</td>\n",
       "        </tr>\n",
       "    </tbody>\n",
       "</table>"
      ],
      "text/plain": [
       "[('Luís',),\n",
       " ('Leonie',),\n",
       " ('François',),\n",
       " ('Bjørn',),\n",
       " ('František',),\n",
       " ('Helena',),\n",
       " ('Astrid',),\n",
       " ('Daan',),\n",
       " ('Kara',),\n",
       " ('Eduardo',)]"
      ]
     },
     "execution_count": 6,
     "metadata": {},
     "output_type": "execute_result"
    }
   ],
   "source": [
    "%%sql\n",
    "\n",
    "SELECT FirstName\n",
    "FROM customers\n",
    "LIMIT 10;"
   ]
  },
  {
   "cell_type": "code",
   "execution_count": 7,
   "id": "83eba96a-6335-4d8e-bcf2-28c2f26be6cf",
   "metadata": {},
   "outputs": [
    {
     "name": "stdout",
     "output_type": "stream",
     "text": [
      "   sqlite:///C:/Users/Admin/OneDrive/Desktop/ALX\n",
      " * sqlite:///chinook.db\n",
      "Done.\n"
     ]
    },
    {
     "data": {
      "text/html": [
       "<table>\n",
       "    <thead>\n",
       "        <tr>\n",
       "            <th>FirstName</th>\n",
       "            <th>LastName</th>\n",
       "            <th>HireDate</th>\n",
       "        </tr>\n",
       "    </thead>\n",
       "    <tbody>\n",
       "        <tr>\n",
       "            <td>Andrew</td>\n",
       "            <td>Adams</td>\n",
       "            <td>2002-08-14 00:00:00</td>\n",
       "        </tr>\n",
       "        <tr>\n",
       "            <td>Nancy</td>\n",
       "            <td>Edwards</td>\n",
       "            <td>2002-05-01 00:00:00</td>\n",
       "        </tr>\n",
       "        <tr>\n",
       "            <td>Jane</td>\n",
       "            <td>Peacock</td>\n",
       "            <td>2002-04-01 00:00:00</td>\n",
       "        </tr>\n",
       "        <tr>\n",
       "            <td>Margaret</td>\n",
       "            <td>Park</td>\n",
       "            <td>2003-05-03 00:00:00</td>\n",
       "        </tr>\n",
       "        <tr>\n",
       "            <td>Steve</td>\n",
       "            <td>Johnson</td>\n",
       "            <td>2003-10-17 00:00:00</td>\n",
       "        </tr>\n",
       "        <tr>\n",
       "            <td>Michael</td>\n",
       "            <td>Mitchell</td>\n",
       "            <td>2003-10-17 00:00:00</td>\n",
       "        </tr>\n",
       "        <tr>\n",
       "            <td>Robert</td>\n",
       "            <td>King</td>\n",
       "            <td>2004-01-02 00:00:00</td>\n",
       "        </tr>\n",
       "        <tr>\n",
       "            <td>Laura</td>\n",
       "            <td>Callahan</td>\n",
       "            <td>2004-03-04 00:00:00</td>\n",
       "        </tr>\n",
       "    </tbody>\n",
       "</table>"
      ],
      "text/plain": [
       "[('Andrew', 'Adams', '2002-08-14 00:00:00'),\n",
       " ('Nancy', 'Edwards', '2002-05-01 00:00:00'),\n",
       " ('Jane', 'Peacock', '2002-04-01 00:00:00'),\n",
       " ('Margaret', 'Park', '2003-05-03 00:00:00'),\n",
       " ('Steve', 'Johnson', '2003-10-17 00:00:00'),\n",
       " ('Michael', 'Mitchell', '2003-10-17 00:00:00'),\n",
       " ('Robert', 'King', '2004-01-02 00:00:00'),\n",
       " ('Laura', 'Callahan', '2004-03-04 00:00:00')]"
      ]
     },
     "execution_count": 7,
     "metadata": {},
     "output_type": "execute_result"
    }
   ],
   "source": [
    "%%sql\n",
    "\n",
    "SELECT FirstName, LastName, HireDate\n",
    "FROM employees;"
   ]
  },
  {
   "cell_type": "code",
   "execution_count": 8,
   "id": "c62ed0dd-90af-483c-a85c-bcc90e62d688",
   "metadata": {},
   "outputs": [
    {
     "name": "stdout",
     "output_type": "stream",
     "text": [
      "   sqlite:///C:/Users/Admin/OneDrive/Desktop/ALX\n",
      " * sqlite:///chinook.db\n",
      "Done.\n"
     ]
    },
    {
     "data": {
      "text/html": [
       "<table>\n",
       "    <thead>\n",
       "        <tr>\n",
       "            <th>Title</th>\n",
       "            <th>Name</th>\n",
       "        </tr>\n",
       "    </thead>\n",
       "    <tbody>\n",
       "        <tr>\n",
       "            <td>For Those About To Rock We Salute You</td>\n",
       "            <td>AC/DC</td>\n",
       "        </tr>\n",
       "        <tr>\n",
       "            <td>For Those About To Rock We Salute You</td>\n",
       "            <td>Accept</td>\n",
       "        </tr>\n",
       "        <tr>\n",
       "            <td>For Those About To Rock We Salute You</td>\n",
       "            <td>Aerosmith</td>\n",
       "        </tr>\n",
       "        <tr>\n",
       "            <td>For Those About To Rock We Salute You</td>\n",
       "            <td>Alanis Morissette</td>\n",
       "        </tr>\n",
       "        <tr>\n",
       "            <td>For Those About To Rock We Salute You</td>\n",
       "            <td>Alice In Chains</td>\n",
       "        </tr>\n",
       "        <tr>\n",
       "            <td>For Those About To Rock We Salute You</td>\n",
       "            <td>Antônio Carlos Jobim</td>\n",
       "        </tr>\n",
       "        <tr>\n",
       "            <td>For Those About To Rock We Salute You</td>\n",
       "            <td>Apocalyptica</td>\n",
       "        </tr>\n",
       "        <tr>\n",
       "            <td>For Those About To Rock We Salute You</td>\n",
       "            <td>Audioslave</td>\n",
       "        </tr>\n",
       "        <tr>\n",
       "            <td>For Those About To Rock We Salute You</td>\n",
       "            <td>BackBeat</td>\n",
       "        </tr>\n",
       "        <tr>\n",
       "            <td>For Those About To Rock We Salute You</td>\n",
       "            <td>Billy Cobham</td>\n",
       "        </tr>\n",
       "    </tbody>\n",
       "</table>"
      ],
      "text/plain": [
       "[('For Those About To Rock We Salute You', 'AC/DC'),\n",
       " ('For Those About To Rock We Salute You', 'Accept'),\n",
       " ('For Those About To Rock We Salute You', 'Aerosmith'),\n",
       " ('For Those About To Rock We Salute You', 'Alanis Morissette'),\n",
       " ('For Those About To Rock We Salute You', 'Alice In Chains'),\n",
       " ('For Those About To Rock We Salute You', 'Antônio Carlos Jobim'),\n",
       " ('For Those About To Rock We Salute You', 'Apocalyptica'),\n",
       " ('For Those About To Rock We Salute You', 'Audioslave'),\n",
       " ('For Those About To Rock We Salute You', 'BackBeat'),\n",
       " ('For Those About To Rock We Salute You', 'Billy Cobham')]"
      ]
     },
     "execution_count": 8,
     "metadata": {},
     "output_type": "execute_result"
    }
   ],
   "source": [
    "%%sql\n",
    "\n",
    "SELECT albums.Title, artists.Name\n",
    "FROM albums, artists\n",
    "LIMIT 10; "
   ]
  },
  {
   "cell_type": "code",
   "execution_count": 9,
   "id": "2e0b2256-ab6f-4f8c-adb9-6ba8e654dbd0",
   "metadata": {},
   "outputs": [
    {
     "name": "stdout",
     "output_type": "stream",
     "text": [
      "   sqlite:///C:/Users/Admin/OneDrive/Desktop/ALX\n",
      " * sqlite:///chinook.db\n",
      "Done.\n"
     ]
    },
    {
     "data": {
      "text/html": [
       "<table>\n",
       "    <thead>\n",
       "        <tr>\n",
       "            <th>Title</th>\n",
       "            <th>Name</th>\n",
       "        </tr>\n",
       "    </thead>\n",
       "    <tbody>\n",
       "        <tr>\n",
       "            <td>For Those About To Rock We Salute You</td>\n",
       "            <td>AC/DC</td>\n",
       "        </tr>\n",
       "        <tr>\n",
       "            <td>Balls to the Wall</td>\n",
       "            <td>Accept</td>\n",
       "        </tr>\n",
       "        <tr>\n",
       "            <td>Restless and Wild</td>\n",
       "            <td>Accept</td>\n",
       "        </tr>\n",
       "        <tr>\n",
       "            <td>Let There Be Rock</td>\n",
       "            <td>AC/DC</td>\n",
       "        </tr>\n",
       "        <tr>\n",
       "            <td>Big Ones</td>\n",
       "            <td>Aerosmith</td>\n",
       "        </tr>\n",
       "        <tr>\n",
       "            <td>Jagged Little Pill</td>\n",
       "            <td>Alanis Morissette</td>\n",
       "        </tr>\n",
       "        <tr>\n",
       "            <td>Facelift</td>\n",
       "            <td>Alice In Chains</td>\n",
       "        </tr>\n",
       "        <tr>\n",
       "            <td>Warner 25 Anos</td>\n",
       "            <td>Antônio Carlos Jobim</td>\n",
       "        </tr>\n",
       "        <tr>\n",
       "            <td>Plays Metallica By Four Cellos</td>\n",
       "            <td>Apocalyptica</td>\n",
       "        </tr>\n",
       "        <tr>\n",
       "            <td>Audioslave</td>\n",
       "            <td>Audioslave</td>\n",
       "        </tr>\n",
       "    </tbody>\n",
       "</table>"
      ],
      "text/plain": [
       "[('For Those About To Rock We Salute You', 'AC/DC'),\n",
       " ('Balls to the Wall', 'Accept'),\n",
       " ('Restless and Wild', 'Accept'),\n",
       " ('Let There Be Rock', 'AC/DC'),\n",
       " ('Big Ones', 'Aerosmith'),\n",
       " ('Jagged Little Pill', 'Alanis Morissette'),\n",
       " ('Facelift', 'Alice In Chains'),\n",
       " ('Warner 25 Anos', 'Antônio Carlos Jobim'),\n",
       " ('Plays Metallica By Four Cellos', 'Apocalyptica'),\n",
       " ('Audioslave', 'Audioslave')]"
      ]
     },
     "execution_count": 9,
     "metadata": {},
     "output_type": "execute_result"
    }
   ],
   "source": [
    "%%sql\n",
    "\n",
    "SELECT albums.Title, artists.Name\n",
    "FROM albums, artists\n",
    "WHERE artists.Artistid = albums.Artistid\n",
    "LIMIT 10;"
   ]
  },
  {
   "cell_type": "code",
   "execution_count": null,
   "id": "14702a55-c96b-48ef-9b88-11a0bc88e941",
   "metadata": {},
   "outputs": [],
   "source": []
  }
 ],
 "metadata": {
  "kernelspec": {
   "display_name": "Python 3 (ipykernel)",
   "language": "python",
   "name": "python3"
  },
  "language_info": {
   "codemirror_mode": {
    "name": "ipython",
    "version": 3
   },
   "file_extension": ".py",
   "mimetype": "text/x-python",
   "name": "python",
   "nbconvert_exporter": "python",
   "pygments_lexer": "ipython3",
   "version": "3.13.7"
  }
 },
 "nbformat": 4,
 "nbformat_minor": 5
}
